{
 "cells": [
  {
   "cell_type": "code",
   "execution_count": 1,
   "metadata": {
    "collapsed": false
   },
   "outputs": [],
   "source": [
    "from PQ import MinPQ\n",
    "from MST import MST\n",
    "from Edge import Edge\n",
    "from EdgeWeightedGraph import EdgeWeightedGraph"
   ]
  },
  {
   "cell_type": "code",
   "execution_count": 2,
   "metadata": {
    "collapsed": false
   },
   "outputs": [
    {
     "name": "stdout",
     "output_type": "stream",
     "text": [
      "( 1 , 0 )\n",
      "________________\n",
      "( 3 , 1 )\n",
      "( 1 , 2 )\n",
      "( 1 , 0 )\n",
      "________________\n",
      "( 2 , 3 )\n",
      "( 1 , 2 )\n",
      "________________\n",
      "( 2 , 3 )\n",
      "( 3 , 1 )\n",
      "________________\n"
     ]
    }
   ],
   "source": [
    "G = EdgeWeightedGraph(4)\n",
    "G.addEdge(Edge(1, 0, 0.1))\n",
    "G.addEdge(Edge(1, 2, 0.2))\n",
    "G.addEdge(Edge(2, 3, 0.3))\n",
    "G.addEdge(Edge(3, 1, 0.01))\n",
    "G.show()"
   ]
  },
  {
   "cell_type": "code",
   "execution_count": 3,
   "metadata": {
    "collapsed": false
   },
   "outputs": [
    {
     "name": "stdout",
     "output_type": "stream",
     "text": [
      "[<Edge.Edge object at 0x7faea0e76160>, <Edge.Edge object at 0x7faea0e762e8>, <Edge.Edge object at 0x7faea0e76240>]\n",
      "( 1 , 0 )\n",
      "( 3 , 1 )\n",
      "( 1 , 2 )\n"
     ]
    }
   ],
   "source": [
    "mst = MST(G)\n",
    "print(mst.mst)\n",
    "for e in mst.mst:\n",
    "    e.show()\n"
   ]
  },
  {
   "cell_type": "code",
   "execution_count": 4,
   "metadata": {
    "collapsed": false
   },
   "outputs": [],
   "source": [
    "from PQ import *\n",
    "from ShortestDisTree import *"
   ]
  },
  {
   "cell_type": "code",
   "execution_count": 5,
   "metadata": {
    "collapsed": false
   },
   "outputs": [],
   "source": [
    "pq = IndexMinPQ(4)"
   ]
  },
  {
   "cell_type": "code",
   "execution_count": 6,
   "metadata": {
    "collapsed": false
   },
   "outputs": [],
   "source": [
    "pq.insert(1,0.1)\n",
    "pq.insert(0,0.7)\n",
    "pq.insert(2,0.2)\n",
    "pq.insert(3,0.3)\n",
    "pq.change(3,0.9)"
   ]
  },
  {
   "cell_type": "code",
   "execution_count": 7,
   "metadata": {
    "collapsed": false
   },
   "outputs": [
    {
     "name": "stdout",
     "output_type": "stream",
     "text": [
      "1\n"
     ]
    }
   ],
   "source": [
    "a = pq.del_min()\n",
    "print(a)"
   ]
  },
  {
   "cell_type": "code",
   "execution_count": 8,
   "metadata": {
    "collapsed": false
   },
   "outputs": [
    {
     "name": "stdout",
     "output_type": "stream",
     "text": [
      "( 0 , 3 )\n",
      "( 0 , 1 )\n",
      "________________\n",
      "( 1 , 2 )\n",
      "________________\n",
      "( 2 , 3 )\n",
      "________________\n",
      "( 3 , 1 )\n",
      "________________\n"
     ]
    }
   ],
   "source": [
    "from Digraph import *\n",
    "G = EdgeWeightedDigraph(4)\n",
    "G.addEdge(DirectedEdge(0, 1, 0.1))\n",
    "G.addEdge(DirectedEdge(1, 2, 0.2))\n",
    "G.addEdge(DirectedEdge(2, 3, 0.3))\n",
    "G.addEdge(DirectedEdge(3, 1, 0.01))\n",
    "G.addEdge(DirectedEdge(0, 3, 5))\n",
    "G.show()"
   ]
  },
  {
   "cell_type": "code",
   "execution_count": 9,
   "metadata": {
    "collapsed": false
   },
   "outputs": [],
   "source": [
    "from ShortestDisTree import *\n",
    "sp = ShortestPath(G, 0)\n"
   ]
  },
  {
   "cell_type": "markdown",
   "metadata": {},
   "source": [
    "# Test"
   ]
  },
  {
   "cell_type": "code",
   "execution_count": 161,
   "metadata": {
    "collapsed": true
   },
   "outputs": [],
   "source": [
    "#change matrice to adj\n",
    "import numpy as np\n",
    "from userinfluence import influence\n",
    "from Digraph import *\n",
    "from ShortestDisTree import *\n",
    "from scipy.stats import pearsonr\n",
    "from scipy.stats import kendalltau\n",
    "from scipy.stats import spearmanr"
   ]
  },
  {
   "cell_type": "code",
   "execution_count": 32,
   "metadata": {
    "collapsed": false
   },
   "outputs": [],
   "source": [
    "def sample_tau(n,p):\n",
    "    '''\n",
    "    sample waiting time from probility p\n",
    "    Args:\n",
    "        n: num of samples\n",
    "        p: probility\n",
    "    return:\n",
    "        a numpy array of waiting time \n",
    "    '''\n",
    "    s = np.random.uniform(0,1,n*n).reshape(n,n)\n",
    "    r = - np.log(s)/p\n",
    "    return r\n",
    "def count(sp):\n",
    "    edge = sp.edgeTo\n",
    "    q = np.ones(n,dtype = np.float64)\n",
    "    r = np.zeros(n,dtype = np.float64)\n",
    "    for e in edge[1:]:   \n",
    "        while(e.fromv() != 0):\n",
    "            r[e.fromv()] = 1\n",
    "            e = edge[e.fromv()]\n",
    "        r[e.fromv()] = 1\n",
    "        q = q + r\n",
    "        r = np.zeros(n,dtype = np.float64)\n",
    "    return q\n",
    "def p_ij(p):\n",
    "    '''\n",
    "    this function is to normlize Probility to 1\n",
    "    Args :\n",
    "        p: raw prob matrix without normlization\n",
    "    returns:\n",
    "        p: norlized prob matrix\n",
    "    '''\n",
    "    n = p.shape[0]\n",
    "    #r = np.zeros(n*n,dtype = np.float64).reshape(n,n)\n",
    "    for i in range(0, n):\n",
    "        p[i,i] = 1\n",
    "        if i == 0:\n",
    "            continue\n",
    "        p[i,:i] = p[i,:i] / np.sum(p[i,:i])\n",
    "\n",
    "    return p.T"
   ]
  },
  {
   "cell_type": "code",
   "execution_count": 219,
   "metadata": {
    "collapsed": false,
    "scrolled": false
   },
   "outputs": [],
   "source": [
    "n = 50\n",
    "s = np.random.weibull(3, n*n).reshape(n,n) #weibull distribution\n",
    "#s = np.random.uniform(0,1,n*n).reshape(n,n) #uniform distribution\n",
    "p = p_ij(s)"
   ]
  },
  {
   "cell_type": "code",
   "execution_count": 220,
   "metadata": {
    "collapsed": false,
    "scrolled": false
   },
   "outputs": [
    {
     "name": "stdout",
     "output_type": "stream",
     "text": [
      "[ 50.    14.79   7.41   6.87   5.94   6.12   4.33   3.71   3.7    3.88\n",
      "   3.42   2.97   3.3    2.31   2.25   2.21   2.36   2.15   2.01   1.98\n",
      "   1.82   1.95   1.83   1.5    1.71   1.6    1.45   1.52   1.58   1.53\n",
      "   1.4    1.45   1.38   1.36   1.35   1.33   1.25   1.33   1.11   1.19\n",
      "   1.24   1.24   1.08   1.12   1.13   1.11   1.03   1.04   1.01   1.  ]\n",
      "[ 3.96180194  2.12932431  1.32949667  1.32297562  1.21106851  1.19656649\n",
      "  1.14075829  1.11783883  1.1350033   1.0891852   1.07455172  1.0726465\n",
      "  1.06438025  1.05232291  1.05016787  1.04707132  1.05627161  1.05208835\n",
      "  1.04100486  1.03324242  1.02594384  1.03626045  1.0290285   1.02728804\n",
      "  1.0247029   1.02160583  1.02179779  1.02121087  1.02013294  1.02008679\n",
      "  1.01346611  1.01427476  1.01516012  1.01087978  1.01202827  1.00700705\n",
      "  1.0076642   1.00760741  1.00591614  1.00612806  1.00454299  1.00346393\n",
      "  1.00256594  1.00370663  1.00395817  1.00255987  1.00065303  1.00098533\n",
      "  1.0003834   1.        ]\n"
     ]
    }
   ],
   "source": [
    "c = np.zeros(n,dtype = np.float64)\n",
    "for i in range(0,100):\n",
    "    G = EdgeWeightedDigraph(n)\n",
    "    G.in_matrice(sample_tau(n,s))\n",
    "    sp = ShortestPath(G,0)\n",
    "    edge = sp.edgeTo \n",
    "    sp = ShortestPath(G,0)\n",
    "    c = c + count(sp)\n",
    "\n",
    "print(c/100)\n",
    "print(influence(p**2))\n",
    "a = (c/100)[:]\n",
    "b = influence(p**2)[:]"
   ]
  },
  {
   "cell_type": "code",
   "execution_count": 221,
   "metadata": {
    "collapsed": false
   },
   "outputs": [
    {
     "name": "stdout",
     "output_type": "stream",
     "text": [
      "PersonrResult (0.99327912454052125, 1.2874301436574682e-46)\n",
      "SpearmanrResult(correlation=0.99202805048657505, pvalue=7.6389451561958374e-45)\n",
      "KendalltauResult(correlation=0.94276495644008607, pvalue=4.4384108047695015e-22)\n"
     ]
    }
   ],
   "source": [
    "print(\"PersonrResult\", pearsonr(a,b))\n",
    "print (spearmanr(a,b))\n",
    "print (kendalltau(a,b))"
   ]
  },
  {
   "cell_type": "code",
   "execution_count": 176,
   "metadata": {
    "collapsed": false
   },
   "outputs": [
    {
     "name": "stdout",
     "output_type": "stream",
     "text": [
      "[ 3.96014527  1.5944928   1.46384811  1.29652483  1.42862064  1.28863847\n",
      "  1.15896407  1.22418391  1.14291844  1.13782993  1.14278436  1.09963975\n",
      "  1.09415628  1.10574563  1.07331867  1.07072713  1.08444939  1.07025179\n",
      "  1.06324172  1.05313613  1.05278565  1.0465563   1.05208851  1.04500044\n",
      "  1.03928973  1.03060384  1.03943884  1.03930346  1.03060803  1.03455474\n",
      "  1.02981715  1.02396488  1.03089205  1.0237756   1.02595307  1.02450824\n",
      "  1.02379402  1.02829782  1.01678586  1.02246941  1.0164958   1.01469767\n",
      "  1.01888795  1.02063383  1.0167164   1.01320496  1.01109327  1.01362665\n",
      "  1.01488259  1.01292391  1.0118181   1.01530306  1.0148789   1.01243433\n",
      "  1.01208101  1.00853637  1.01098863  1.01180979  1.01046405  1.00989678\n",
      "  1.00851251  1.00815982  1.00785752  1.00826468  1.00777802  1.00834705\n",
      "  1.00584854  1.00603004  1.00853434  1.00543823  1.00490124  1.00445433\n",
      "  1.00373469  1.00517197  1.00428022  1.00364128  1.00474422  1.00346434\n",
      "  1.0038022   1.00303619  1.00322566  1.00442428  1.00297049  1.00314908\n",
      "  1.00236172  1.00302583  1.00170669  1.00246481  1.00257327  1.0019453\n",
      "  1.00226194  1.00142763  1.00090327  1.00113354  1.00038564  1.00043555\n",
      "  1.00028007  1.00040185  1.00016989  1.        ]\n"
     ]
    }
   ],
   "source": []
  },
  {
   "cell_type": "code",
   "execution_count": null,
   "metadata": {
    "collapsed": false
   },
   "outputs": [],
   "source": []
  },
  {
   "cell_type": "code",
   "execution_count": null,
   "metadata": {
    "collapsed": false
   },
   "outputs": [],
   "source": [
    "\n",
    "        "
   ]
  },
  {
   "cell_type": "code",
   "execution_count": null,
   "metadata": {
    "collapsed": false
   },
   "outputs": [],
   "source": [
    "print(q)"
   ]
  },
  {
   "cell_type": "code",
   "execution_count": null,
   "metadata": {
    "collapsed": true
   },
   "outputs": [],
   "source": []
  },
  {
   "cell_type": "code",
   "execution_count": null,
   "metadata": {
    "collapsed": true
   },
   "outputs": [],
   "source": []
  }
 ],
 "metadata": {
  "anaconda-cloud": {},
  "kernelspec": {
   "display_name": "Python 3",
   "language": "python",
   "name": "python3"
  },
  "language_info": {
   "codemirror_mode": {
    "name": "ipython",
    "version": 3
   },
   "file_extension": ".py",
   "mimetype": "text/x-python",
   "name": "python",
   "nbconvert_exporter": "python",
   "pygments_lexer": "ipython3",
   "version": "3.6.0"
  }
 },
 "nbformat": 4,
 "nbformat_minor": 1
}
