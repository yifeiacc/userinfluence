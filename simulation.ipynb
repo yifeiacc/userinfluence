{
 "cells": [
  {
   "cell_type": "code",
   "execution_count": 2,
   "metadata": {
    "collapsed": false
   },
   "outputs": [],
   "source": [
    "import networkx as nx\n",
    "import matplotlib.pyplot as plt\n",
    "import numpy as np\n",
    "from userinfluence import influence\n",
    "from functools import reduce\n",
    "from scipy.stats import pearsonr\n",
    "from scipy.stats import kendalltau\n",
    "from scipy.stats import spearmanr\n",
    "import pickle\n",
    "from scipy import stats\n",
    "def ARE_error(figname,label, ground_truth, estimation, m):\n",
    "    a = [stats.percentileofscore(ground_truth, i) for i in ground_truth]\n",
    "    b = [stats.percentileofscore(estimation, i) for i in estimation]\n",
    "    ARE = list(np.abs(b - a)/a)\n",
    "    plt.figure(figsize=(20,20))\n",
    "    plt.ylabel(\"APE\")\n",
    "    plt.xlabel(label)\n",
    "    plt.xticks(rotation=90)\n",
    "    plt.boxplot(ARE,labels = m)\n",
    "    plt.savefig(figname + \".pdf\")\n",
    "    plt.show()\n",
    "    \n",
    "def p_ij (cas,r = - 0.15):\n",
    "    \"\"\"Compute the probability of retweet bewtween any two user\n",
    "    This function compute the Prob_ij for each user and Store\n",
    "    it in matrix p_ij\n",
    "    Args:\n",
    "        cas: a list of Tweet object with in one cascade\n",
    "        r: time decay coefficient,defaut set to -0.15\n",
    "    Returns:\n",
    "        p_ij: 2d numpy array    \n",
    "   \"\"\"\n",
    "    nodes = cas\n",
    "    n = len(nodes)\n",
    "    #if n > 50 : print(“the size of cascade is”, n)\n",
    "    k = 0\n",
    "    t = np.zeros(n,dtype = np.float64)\n",
    "    f = np.zeros(n,dtype = np.float64)\n",
    "    p = np.zeros((n,n),dtype = np.float64)\n",
    "    norm = np.zeros(n,dtype = np.float64)\n",
    "    for node in nodes:\n",
    "        if k == 0:\n",
    "            p[0][0] = 1\n",
    "            t[0] = node\n",
    "            f[0] = 1\n",
    "            k = k + 1\n",
    "            continue\n",
    "        t[k] = node\n",
    "        f[k] = 1 # if node.num_follower == 0 else node.num_follower\n",
    "        diff = node - t[0:k]\n",
    "        p[:k, k] = ((r * (node - t[0:k])) + np.log(f[0:k])) # store the P_ji in log space\n",
    "        for i in range(len(diff)):\n",
    "            if diff[i] < 0:\n",
    "                p[:k, k][i] = - np.inf\n",
    "        norm[k] = reduce(np.logaddexp, p[:k, k])\n",
    "        p[:k, k] = np.exp(p[:k, k] - norm[k])# recover the P_ji from log space\n",
    "        k = k + 1\n",
    "        \n",
    "    return p\n",
    "\n",
    "def gen_random_graph(n, fl = False):\n",
    "    DG = nx.DiGraph()\n",
    "    num_edges = np.random.randint(n, n**2)\n",
    "    for _ in range(num_edges):\n",
    "        i = np.random.randint(0, n)\n",
    "        j = np.random.randint(0, n)\n",
    "        while( DG.has_edge(i,j) or i == j):\n",
    "            i = np.random.randint(0, n)\n",
    "            j = np.random.randint(0, n)\n",
    "        DG.add_edge(i,j,weight = 1)\n",
    "    if nx.is_weakly_connected(DG):\n",
    "        return DG\n",
    "    \n",
    "    else:\n",
    "        comps = nx.weakly_connected_components(DG)\n",
    "        path = []\n",
    "        for comp in comps:\n",
    "            path.append( comp.pop() )\n",
    "        DG.add_path(path)\n",
    "        assert(nx.is_weakly_connected(DG))\n",
    "        \n",
    "        return DG\n",
    "    \n",
    "        \n",
    "\n",
    "def sample_wait_time_graph(DG, shape):#(adj_mat):\n",
    "    for e in DG.edges(data = True):\n",
    "        rate = np.random.weibull(shape)\n",
    "        s = np.random.uniform(0,1)\n",
    "        tau = - np.log(s)/rate\n",
    "        e[2]['weight'] = tau\n",
    "    return DG\n",
    "        \n",
    "    \n",
    "def gen_cascade(SG, source = 0):\n",
    "    cascade = np.zeros((2,len(SG)))\n",
    "\n",
    "    length = nx.single_source_dijkstra_path_length(SG,source)\n",
    "\n",
    "    for node in length:\n",
    "        cascade[1,node] = length[node]\n",
    "        cascade[0,node] = node\n",
    "\n",
    "    return cascade\n",
    "def gen_count(SG, source = 0):\n",
    "    path = nx.single_source_dijkstra_path(SG,source)\n",
    "    count = np.zeros(len(SG))\n",
    "    for node in path:\n",
    "        for i in path[node]:\n",
    "            count[i] = count[i] + 1\n",
    "    return count\n",
    "\n",
    "def experiment(td, shape, n = 100, tms = 100, flc = True):\n",
    "    gt = np.zeros(n)\n",
    "    est = np.zeros(n)\n",
    "    rand_G = gen_random_graph(n)\n",
    "    for _ in range(tms):\n",
    "        SG = sample_wait_time_graph(rand_G,shape)\n",
    "        gt = gt + gen_count(SG)\n",
    "        cas = gen_cascade(SG)\n",
    "        est = est + rearrage(cas, td)\n",
    "        \n",
    "    return gt/tms, est/tms\n",
    "def rearrage(u_time,td):\n",
    "#     print(u_time)\n",
    "    u = np.zeros(len(u_time))\n",
    "    index = np.argsort(u_time[1])\n",
    "    u_time = u_time[:, index]\n",
    "#     print(u_time)\n",
    "    P = p_ij( u_time[1], r = td)\n",
    "    inf = influence(P**2)\n",
    "    inf = np.array([inf])\n",
    "#     print(inf)\n",
    "    u_time = np.concatenate( (u_time, inf), axis = 0)\n",
    "    index = np.argsort(u_time[0])\n",
    "    u_time = u_time[:, index]\n",
    "#     print(u_time)\n",
    "    \n",
    "    return u_time[2]\n",
    "        "
   ]
  },
  {
   "cell_type": "code",
   "execution_count": null,
   "metadata": {
    "collapsed": false,
    "scrolled": false
   },
   "outputs": [],
   "source": []
  },
  {
   "cell_type": "code",
   "execution_count": null,
   "metadata": {
    "collapsed": false
   },
   "outputs": [],
   "source": []
  },
  {
   "cell_type": "code",
   "execution_count": 6,
   "metadata": {
    "collapsed": false
   },
   "outputs": [
    {
     "name": "stdout",
     "output_type": "stream",
     "text": [
      "[ 100.      2.99    7.05    1.76    4.53    6.09    3.08    3.91    3.35\n",
      "    3.43    6.13    6.43    2.37    3.49    1.      3.21    3.83    3.57\n",
      "    4.01    5.11    4.13    4.14   23.8     2.34    6.81    2.74    3.7\n",
      "   10.12    3.71    4.44    3.5     2.58    7.52    9.29    2.62    5.01\n",
      "    2.49    3.67    1.3     3.09    4.62    4.45   28.32    1.8     2.6\n",
      "    2.13    3.53    5.95    2.25    4.38    6.61    3.98    3.88    2.61\n",
      "    8.39    5.62    2.57    2.94    2.8     5.5     1.82    1.41    3.9\n",
      "   14.83    2.59    4.45    4.38    1.95    3.08    3.5     2.61    5.78\n",
      "    3.78    1.64    1.33    3.57    8.65    7.33    5.86    5.49    6.3\n",
      "   11.99    1.7     6.3     3.8     3.79    1.7     5.01    1.69    1.66\n",
      "    3.87    4.23    2.79   16.49    1.36    2.9     2.24    2.3     2.72\n",
      "    4.22]\n",
      "[ 3.63901201  1.00863961  1.03695315  1.00398528  1.03049073  1.19349998\n",
      "  1.0204598   1.03334842  1.04418898  1.05112162  1.03716028  1.04168409\n",
      "  1.00554912  1.01546659  1.01109278  1.0214664   1.03746989  1.02913407\n",
      "  1.03524815  1.02834082  1.03060774  1.0251449   1.24306425  1.01960525\n",
      "  1.03880663  1.03500368  1.01654851  1.06157448  1.04372649  1.03076286\n",
      "  1.02305704  1.01169634  1.06693037  1.15266046  1.01704249  1.03280288\n",
      "  1.01651871  1.01745869  1.00882762  1.02447758  1.03689213  1.02453067\n",
      "  1.2273518   1.01408884  1.04502476  1.02492436  1.08085049  1.04172228\n",
      "  1.01460907  1.03192634  1.03839566  1.0269972   1.02733389  1.01189901\n",
      "  1.06145585  1.03482325  1.01691385  1.0184349   1.01426041  1.04622525\n",
      "  1.01516237  1.00624993  1.04539405  1.14861401  1.01404235  1.03603737\n",
      "  1.03181711  1.01550345  1.01790785  1.02245936  1.01827858  1.03148913\n",
      "  1.03492983  1.00681157  1.01615971  1.03161068  1.02933386  1.02659077\n",
      "  1.19619786  1.04686121  1.04440113  1.13584784  1.01528706  1.05300651\n",
      "  1.02008689  1.02009854  1.01810116  1.02772318  1.00294998  1.00863509\n",
      "  1.01735065  1.0221032   1.02915093  1.16923022  1.0073837   1.0257747\n",
      "  1.01424548  1.02387571  1.01433115  1.02333725]\n"
     ]
    }
   ],
   "source": [
    "td = -0.001\n",
    "a,b = experiment(td, 2, tms = 100)\n",
    "print(a)\n",
    "print(b)"
   ]
  },
  {
   "cell_type": "code",
   "execution_count": 8,
   "metadata": {
    "collapsed": false
   },
   "outputs": [
    {
     "data": {
      "image/png": "[encoded data removed]",
      "text/plain": [
       "<matplotlib.figure.Figure at 0x7f035476b390>"
      ]
     },
     "metadata": {},
     "output_type": "display_data"
    },
    {
     "name": "stdout",
     "output_type": "stream",
     "text": [
      "PersonrResult (0.96333608026964079, 8.4245866743741714e-58)\n",
      "SpearmanrResult(correlation=0.82226042737402838, pvalue=9.9423099158833666e-26)\n",
      "KendalltauResult(correlation=0.63471869365480582, pvalue=8.2173842865890969e-21)\n"
     ]
    }
   ],
   "source": [
    "be = 1\n",
    "ed = 100\n",
    "#plt.figure(figsize=(10,5))\n",
    "plt.plot(a[be:ed],b[be:ed], \".\")\n",
    "plt.ylabel(\"gt\")\n",
    "plt.xlabel(\"Casin\")\n",
    "#plt.title(\"our method  r = %f\" % td)\n",
    "plt.legend([\"user\"])\n",
    "plt.savefig(\"test2.pdf\")\n",
    "plt.show()\n",
    "print(\"PersonrResult\", pearsonr(a,b))\n",
    "print (spearmanr(a,b))\n",
    "print (kendalltau(a,b))\n"
   ]
  },
  {
   "cell_type": "code",
   "execution_count": null,
   "metadata": {
    "collapsed": false
   },
   "outputs": [],
   "source": []
  },
  {
   "cell_type": "code",
   "execution_count": 10,
   "metadata": {
    "collapsed": false
   },
   "outputs": [
    {
     "name": "stdout",
     "output_type": "stream",
     "text": [
      "False\n",
      "{1, 2}\n",
      "1\n",
      "{3, 4}\n",
      "3\n"
     ]
    }
   ],
   "source": [
    "DG = nx.DiGraph()\n",
    "DG.add_edge(1,2,weight = 1)\n",
    "DG.add_edge(3,4,weight = 1)\n",
    "# for e in DG.edges(data = True):\n",
    "#     #DG.add_edge(e[0],e[1],weight = 0)\n",
    "#     e[2]['weight'] = 8 \n",
    "# for e in DG.edges(data = True):\n",
    "#     print(\"1\")\n",
    "#     print(e)\n",
    "print(nx.is_weakly_connected(DG))\n",
    "a = nx.weakly_connected_components(DG)\n",
    "for i in a:\n",
    "    print(i)\n",
    "    print(i.pop())\n",
    "    "
   ]
  },
  {
   "cell_type": "code",
   "execution_count": 15,
   "metadata": {
    "collapsed": false
   },
   "outputs": [
    {
     "name": "stdout",
     "output_type": "stream",
     "text": [
      "(4, 0, {'weight': 1})\n",
      "(0, 3, {'weight': 1})\n",
      "(1, 0, {'weight': 1})\n",
      "(1, 3, {'weight': 1})\n",
      "(1, 4, {'weight': 1})\n",
      "(4, 0, {'weight': 0.0096048779410769416})\n",
      "(0, 3, {'weight': 1.722359686096717})\n",
      "(1, 0, {'weight': 2.1926564861013058})\n",
      "(1, 3, {'weight': 0.12875924844946549})\n",
      "(1, 4, {'weight': 0.50137314229793484})\n"
     ]
    }
   ],
   "source": [
    "G = gen_random_graph(5)\n",
    "# nx.draw(G,arrows = True, with_labels = True, node_color = 'lightgrey' )\n",
    "# plt.show()\n",
    "for e in G.edges(data = True):\n",
    "    print(e)\n",
    "SG = sample_wait_time_graph(G,2)\n",
    "for e in SG.edges(data = True):\n",
    "    print(e)"
   ]
  },
  {
   "cell_type": "code",
   "execution_count": 16,
   "metadata": {
    "collapsed": false
   },
   "outputs": [
    {
     "name": "stderr",
     "output_type": "stream",
     "text": [
      "/home/yifei/anaconda3/lib/python3.6/site-packages/networkx/drawing/nx_pylab.py:126: MatplotlibDeprecationWarning: pyplot.hold is deprecated.\n",
      "    Future behavior will be consistent with the long-time default:\n",
      "    plot commands add elements without first clearing the\n",
      "    Axes and/or Figure.\n",
      "  b = plt.ishold()\n",
      "/home/yifei/anaconda3/lib/python3.6/site-packages/networkx/drawing/nx_pylab.py:138: MatplotlibDeprecationWarning: pyplot.hold is deprecated.\n",
      "    Future behavior will be consistent with the long-time default:\n",
      "    plot commands add elements without first clearing the\n",
      "    Axes and/or Figure.\n",
      "  plt.hold(b)\n",
      "/home/yifei/anaconda3/lib/python3.6/site-packages/matplotlib/__init__.py:917: UserWarning: axes.hold is deprecated. Please remove it from your matplotlibrc and/or style files.\n",
      "  warnings.warn(self.msg_depr_set % key)\n",
      "/home/yifei/anaconda3/lib/python3.6/site-packages/matplotlib/rcsetup.py:152: UserWarning: axes.hold is deprecated, will be removed in 3.0\n",
      "  warnings.warn(\"axes.hold is deprecated, will be removed in 3.0\")\n"
     ]
    },
    {
     "data": {
      "image/png": "[encoded data removed]",
      "text/plain": [
       "<matplotlib.figure.Figure at 0x7f0343fc7860>"
      ]
     },
     "metadata": {},
     "output_type": "display_data"
    }
   ],
   "source": [
    "nx.draw(SG,arrows = True, with_labels = True, node_color = 'lightgrey' )\n",
    "plt.show()"
   ]
  },
  {
   "cell_type": "code",
   "execution_count": 17,
   "metadata": {
    "collapsed": false
   },
   "outputs": [
    {
     "name": "stdout",
     "output_type": "stream",
     "text": [
      "[ 2.  0.  0.  1.]\n"
     ]
    }
   ],
   "source": [
    "print(gen_count(SG))"
   ]
  },
  {
   "cell_type": "code",
   "execution_count": null,
   "metadata": {
    "collapsed": true
   },
   "outputs": [],
   "source": []
  }
 ],
 "metadata": {
  "kernelspec": {
   "display_name": "Python 3",
   "language": "python",
   "name": "python3"
  },
  "language_info": {
   "codemirror_mode": {
    "name": "ipython",
    "version": 3
   },
   "file_extension": ".py",
   "mimetype": "text/x-python",
   "name": "python",
   "nbconvert_exporter": "python",
   "pygments_lexer": "ipython3",
   "version": "3.6.0"
  }
 },
 "nbformat": 4,
 "nbformat_minor": 2
}
